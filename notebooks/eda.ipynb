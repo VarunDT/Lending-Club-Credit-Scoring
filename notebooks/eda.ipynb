{
 "cells": [
  {
   "cell_type": "markdown",
   "metadata": {},
   "source": [
    "## Lending Club Credit Risk Modeling\n",
    "- In this project, I will build three **machine learning** models to predict the three components of expected loss in the context of **credit risk modeling** at the **Lending Club** (a peer-to-peer credit company): Probability of Default (PD), Exposure at Default (EAD) and Loss Given Default (LGD). The expected loss will be the product of these elements: **Expected Loss (EL) = PD * EAD * LGD.**\n",
    "- The PD modelling encompasses a binary classification problem with target being 1 in case of non-default and 0 in case of default. A Logistic Regression model will be built.\n",
    "- The LGD and EAD modelling encompasses a beta regression problem, that is, a regression task in which the dependent variable is beta distributed.\n",
    "- The **solution pipeline** is based on the **crisp-dm** framework:\n",
    "    1. Business understanding.\n",
    "    2. Data understanding.\n",
    "    3. Data preparation.\n",
    "    4. Modelling.\n",
    "    5. Validation.\n",
    "    6. Deployment.\n",
    "- Below, I will introduce **information** about the company, the business problem, the project objectives and benefits, and some important concepts to have in mind, given that I am dealing with a credit risk problem."
   ]
  },
  {
   "cell_type": "markdown",
   "metadata": {},
   "source": [
    "#### Lending Club\n",
    "- **What is the Lending Club?:**\n",
    "    - LendingClub is a **peer-to-peer lending platform** that facilitates the borrowing and lending of money directly between individuals, without the need for traditional financial institutions such as banks. The platform operates as an online marketplace, connecting borrowers seeking personal loans with investors willing to fund those loans.\n",
    "\n",
    "#### Business Problem: Managing Default Risks and Optimizing Returns\n",
    "- **What is the business problem?:**\n",
    "    - LendingClub faces a significant business challenge related to **managing default risks effectively** while **optimizing returns** for its investors. The platform facilitates peer-to-peer lending, connecting borrowers with investors, and relies on **accurate risk assessments to maintain a sustainable and profitable lending ecosystem.** Thus, the CEO wants us to provide insights about which factors are associated with credit risk in Lending Club's operations, and to construct models capable of accurately predicting possible losses on its loans.\n",
    "- **Which are the project objectives?**\n",
    "    1. Identify the factors associated with credit risk in the form of business insights.\n",
    "    2. Develop an accurate Probability of Default (PD) Model, constructing a scorecard.\n",
    "    3. Develop Exposure at Default (EAD) and Loss Given Default (LGD) Models, to estimate the Expected Loss in loans.\n",
    "    4. Improve risk management and optimize returns by selecting a cut-off point to approve loans based on our models' results.\n",
    "    5. Apply model monitoring and maintenance techniques to safeguard our results from population instability, characterized by significant changes in loan applicants' characteristics.\n",
    "- **Which are the benefits from the project?**\n",
    "    1. **Enhanced risk mitigation and financial stability:**\n",
    "        - **Objective:** Develop an accurate Probability of Default (PD) model and a scorecard.\n",
    "        - **Benefit:** By accurately assessing the likelihood of borrower defaults, LendingClub can proactively implement risk mitigation strategies, reducing the impact of defaults and enhancing overall financial stability.\n",
    "    2. **Optimized capital allocation and improved returns:**\n",
    "        - **Objective:** Develop Exposure at Default (EAD) and Loss Given Default (LGD) models to estimate Expected Loss in loans.\n",
    "        - **Benefit:** Modeling EAD and LGD allows for optimized capital allocation, enabling informed decisions on loan pricing, reserve levels, and portfolio management. This optimization contributes to better returns for investors while effectively managing potential losses.\n",
    "    3. **Strategic loan approval decisions for balanced risk and returns:**\n",
    "        - **Objective:** Improve risk management and optimize returns by selecting a cut-off point to approve loans.\n",
    "        - **Benefit:** Selecting an appropriate cut-off point enhances risk management practices, striking a balance between approving loans and minimizing default risks. This strategic decision contributes to maintaining a sustainable lending platform and fostering investor confidence.\n",
    "\n",
    "#### Credit Risk Modeling Concepts: The Context of the Problem\n",
    "- **Financial institutions and profit from loans:**\n",
    "    - Financial institutions, including online lending platforms like LendingClub, generate revenue by providing loans to individuals and businesses. These loans accrue interest, and the interest income contributes significantly to the institution's profits. Managing credit risk effectively is crucial for these institutions to ensure that borrowers repay their loans, minimizing defaults and associated losses  \n",
    "- **LendingClub's role in credit risk:**\n",
    "    - LendingClub operates as a peer-to-peer lending platform, connecting borrowers with investors. The platform assesses the creditworthiness of borrowers through credit scoring models to determine the likelihood of loan repayment. Investors fund loans based on their risk appetite, and LendingClub earns fees for facilitating the lending process.\n",
    "- **Credit risk:**\n",
    "    - Credit risk refers to the potential that a borrower may fail to meet their financial obligations, resulting in a financial loss for the lender. It encompasses the uncertainty of repayment and the likelihood of default.\n",
    "- **Default event:**\n",
    "    - Default occurs when a borrower fails to fulfill their contractual obligations, such as not repaying a loan or not meeting agreed-upon terms. It represents a significant event in credit risk, often resulting in financial losses for the lender.\n",
    "- **Basel II Accord:**\n",
    "    - Basel II is an international regulatory framework developed by the Basel Committee on Banking Supervision. It introduces more sophisticated and risk-sensitive measures for assessing capital adequacy requirements for banks. The framework includes three pillars: minimum capital requirements, supervisory review, and market discipline.\n",
    "- **Internal Ratings-Based (IRB) approach:**\n",
    "    - Within Basel II, the IRB approach allows banks to use their internal credit risk models to estimate key components of expected losses: Probability of Default (PD), Loss Given Default (LGD), and Exposure at Default (EAD).\n",
    "- **Components of Expected Loss:**\n",
    "    - **Probability of Default (PD):** The likelihood that a borrower will default on a loan.\n",
    "    - **Loss Given Default (LGD):** The proportion of the exposure that will be lost in case of default.\n",
    "    - **Exposure at Default (EAD):** The potential loss exposure at the time of default, considering the outstanding loan amount, accrued interest, and potential fees.\n",
    "- **Expected Loss:**\n",
    "    - The Expected Loss (EL) is the product of PD, LGD, and EAD. It represents the estimated average loss that a lender can expect from defaulting loans in a portfolio. Accurate modeling of these components allows financial institutions to quantify and manage credit risk effectively.\n",
    "- **Model monitoring and maintenance:**\n",
    "    - To protect results from population instability, institutions employ continuous model monitoring and maintenance techniques. This involves regularly updating models to reflect changes in the characteristics of loan applicants and ensuring that risk models remain accurate and effective in predicting credit risk."
   ]
  }
 ],
 "metadata": {
  "kernelspec": {
   "display_name": "Python 3",
   "language": "python",
   "name": "python3"
  },
  "language_info": {
   "codemirror_mode": {
    "name": "ipython",
    "version": 3
   },
   "file_extension": ".py",
   "mimetype": "text/x-python",
   "name": "python",
   "nbconvert_exporter": "python",
   "pygments_lexer": "ipython3",
   "version": "3.11.5"
  }
 },
 "nbformat": 4,
 "nbformat_minor": 2
}
