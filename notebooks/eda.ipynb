{
 "cells": [
  {
   "cell_type": "markdown",
   "metadata": {},
   "source": [
    "## Lending Club Credit Risk Modeling\n",
    "- In this project, I will build three **machine learning** models to predict the three components of expected loss in the context of **credit risk modeling** at the **Lending Club** (a peer-to-peer credit company): Probability of Default (PD), Exposure at Default (EAD) and Loss Given Default (LGD). The expected loss will be the product of these elements: **Expected Loss (EL) = PD * EAD * LGD.** The PD Model will be used to stablish a credit policy, deciding wheter to grant a loan or not for new applicants (application model) based on their credit scores. The EAD and LGD Models will be used along with the PD Model to estimate the Expected Loss (EL) from each loan in order to assess the capital the institution needs to hold to protect itself against defaults.\n",
    "- The PD modelling encompasses a binary classification problem with target being 1 in case of non-default and 0 in case of default. A Logistic Regression model will be built. \n",
    "- The LGD and EAD modelling encompasses a beta regression problem, that is, a regression task in which the dependent variable is beta distributed.\n",
    "- The **solution pipeline** is based on the **crisp-dm** framework:\n",
    "    1. Business understanding.\n",
    "    2. Data understanding.\n",
    "    3. Data preparation.\n",
    "    4. Modelling.\n",
    "    5. Validation.\n",
    "    6. Deployment.\n",
    "- Below, I will introduce **information** about the company, the business problem, the project objectives and benefits, and some important concepts to have in mind, given that I am dealing with a credit risk problem."
   ]
  },
  {
   "cell_type": "markdown",
   "metadata": {},
   "source": [
    "#### Lending Club\n",
    "- **What is the Lending Club?:**\n",
    "    - LendingClub is a **peer-to-peer lending platform** that facilitates the borrowing and lending of money directly between individuals, without the need for traditional financial institutions such as banks. The platform operates as an online marketplace, connecting borrowers seeking personal loans with investors willing to fund those loans.\n",
    "\n",
    "#### Business Problem: Managing Default Risks and Optimizing Returns\n",
    "- **What is the business problem?:**\n",
    "    - LendingClub faces a significant business challenge related to **managing default risks effectively** while **optimizing returns** for its investors. The platform facilitates peer-to-peer lending, connecting borrowers with investors, and relies on **accurate risk assessments to maintain a sustainable and profitable lending ecosystem.** Thus, the CEO wants us to provide insights about which factors are associated with credit risk in Lending Club's operations, and to construct models capable of accurately predicting possible losses on its loans.\n",
    "- **Which are the project objectives?**\n",
    "    1. Identify the factors associated with credit risk in the form of business insights.\n",
    "    2. Develop an accurate Probability of Default (PD) Model, constructing a scorecard.\n",
    "    3. Develop Exposure at Default (EAD) and Loss Given Default (LGD) Models, to estimate the Expected Loss in loans.\n",
    "    4. Improve risk management and optimize returns by selecting a cut-off point to approve loans based on our models' results. With this, we intend to establish a credit policy, trying to balance risk and ROI of Lending Club's assets.\n",
    "    5. Apply model monitoring and maintenance techniques to safeguard our results from population instability, characterized by significant changes in loan applicants' characteristics.\n",
    "- **Which are the benefits from the project?**\n",
    "    1. **Enhanced risk mitigation and financial stability:**\n",
    "        - **Objective:** Develop an accurate Probability of Default (PD) model and a scorecard.\n",
    "        - **Benefit:** By accurately assessing the likelihood of borrower defaults, LendingClub can proactively implement risk mitigation strategies, reducing the impact of defaults and enhancing overall financial stability.\n",
    "    2. **Optimized capital allocation and improved returns:**\n",
    "        - **Objective:** Develop Exposure at Default (EAD) and Loss Given Default (LGD) models to estimate Expected Loss in loans.\n",
    "        - **Benefit:** Modeling EAD and LGD allows for optimized capital allocation, enabling informed decisions on loan pricing, reserve levels, and portfolio management. This optimization contributes to better returns for investors while effectively managing potential losses.\n",
    "    3. **Strategic loan approval decisions for balanced risk and returns:**\n",
    "        - **Objective:** Improve risk management and optimize returns by selecting a cut-off point to approve loans.\n",
    "        - **Benefit:** Selecting an appropriate cut-off point enhances risk management practices, striking a balance between approving loans and minimizing default risks. This strategic decision contributes to maintaining a sustainable lending platform and fostering investor confidence.\n",
    "\n",
    "#### Credit Risk Modeling Concepts: The Context of the Problem\n",
    "- Financial institutions, including online lending platforms like **LendingClub, generate revenue by extending loans to individuals and businesses.** These loans accumulate **interest**, a key contributor to the institution's **profits. Effectively managing credit risk** is essential for these institutions to ensure borrowers repay their loans, minimizing defaults and associated losses. Credit risk pertains to the potential that a borrower may fail to meet their financial obligations, leading to a financial loss for the lender. It encompasses uncertainty regarding repayment and the probability of default.\n",
    "- **Default** occurs when a borrower fails to fulfill contractual obligations, such as not repaying a loan or not meeting agreed-upon terms. It represents a significant event in credit risk, often resulting in financial losses for the lender and is associated with a specific time horizon. A common default definition considers payment overdue, typically 90 days past the due date. If a borrower hasn't paid their debt after this period, they are classified as a defaulter.\n",
    "- The **expected loss (EL)** is the estimated average loss that a lender can expect from defaulting loans in a portfolio. It is defined as the product of three components:\n",
    "    - **Probability of Default (PD):** The likelihood that a borrower will default on a loan.\n",
    "    - **Loss Given Default (LGD):** The proportion of the exposure that will be lost (cannot be recovered) in case of default.\n",
    "    - **Exposure at Default (EAD):** The potential loss exposure at the time of default, considering the outstanding loan amount, accrued interest, and potential fees.\n",
    "    - **Expected Loss (EL) = PD * EAD * LGD**\n",
    "- Considering Lending Club operates as a peer-to-peer lending platform, connecting borrowers with investors, it employs our **PD Model/Credit Scoring Model** to evaluate **borrowers' creditworthiness using credit scores** from a **scorecard**. This assessment determines the likelihood of loan repayment, guiding the approval or denial of the loan. Additionally, the **required capital to safeguard against default for each loan** is calculated using our EAD and LGD Models. These models enable the computation of **Expected Loss (EL)** for loans, helping minimize risk in credit operations.\n",
    "- It's noteworthy that when building a Credit Scoring Model for assessing creditworthiness to decide whether to grant a loan or not, utilizing data available at the time of the application classifies it as an **application model**, distinct from a behavior model. \n",
    "- A **credit policy** is a set of guidelines and criteria that financial institutions such as Lending Club follow to evaluate and manage the risk associated with lending money. It involves establishing a cut-off point, a threshold used to determine whether to approve or reject loan applications. This **cut-off point** will be based on **credit scores.**\n",
    "- The **Return on Investment (ROI)** is a key metric that measures the profitability of loans. Balancing ROI with risk is crucial for effective **credit policy management.** While higher-risk loans may offer greater potential returns, they also carry an increased likelihood of default, posing a financial threat to the lender. Striking a balance between ROI and risk involves setting a cut-off point that optimizes profitability while minimizing the potential for losses due to defaults. This delicate equilibrium ensures that the credit policy aligns with the institution's financial objectives and risk tolerance. That's what we are trying to achieve here."
   ]
  }
 ],
 "metadata": {
  "kernelspec": {
   "display_name": "Python 3",
   "language": "python",
   "name": "python3"
  },
  "language_info": {
   "codemirror_mode": {
    "name": "ipython",
    "version": 3
   },
   "file_extension": ".py",
   "mimetype": "text/x-python",
   "name": "python",
   "nbconvert_exporter": "python",
   "pygments_lexer": "ipython3",
   "version": "3.11.5"
  }
 },
 "nbformat": 4,
 "nbformat_minor": 2
}
